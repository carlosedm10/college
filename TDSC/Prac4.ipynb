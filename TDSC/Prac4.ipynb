{
 "cells": [
  {
   "cell_type": "code",
   "execution_count": 6,
   "metadata": {},
   "outputs": [],
   "source": [
    "# Importación de bibliotecas necesarias\n",
    "import numpy as np\n",
    "from skimage.color import rgb2gray\n",
    "import matplotlib.pyplot as plt\n",
    "from bitarray.util import ba2int\n",
    "\n",
    "image_path = \"/Users/carlosedm10/projects/college/TDSC/Files/i1.png\""
   ]
  },
  {
   "cell_type": "code",
   "execution_count": 7,
   "metadata": {},
   "outputs": [],
   "source": [
    "# Función para transformar un entero e a un entero positivo e'\n",
    "def transform_to_positive(e):\n",
    "    return 2 * e if e >= 0 else 2 * abs(e) - 1\n",
    "\n",
    "\n",
    "# Codificación Rice-m para un entero e\n",
    "def rice_encode(e, m):\n",
    "    e_prime = transform_to_positive(e)\n",
    "    eq = e_prime // (2**m)  # Cociente\n",
    "    er = e_prime % (2**m)  # Resto\n",
    "\n",
    "    # Codificar eq con código unario\n",
    "    c_eq = \"0\" * eq + \"1\"\n",
    "\n",
    "    # Codificar er con longitud fija de m bits\n",
    "    c_er = format(er, f\"0{m}b\")\n",
    "\n",
    "    return c_eq + c_er\n",
    "\n",
    "\n",
    "# Decodificación Rice-m para obtener el entero original e\n",
    "def rice_decode(code, m):\n",
    "    eq = code.find(\"1\")  # Número de ceros antes del primer uno\n",
    "    er = int(code[eq + 1 : eq + 1 + m], 2)  # Los m bits siguientes int (.., 2) bit to\n",
    "    e_prime = eq * (2**m) + er\n",
    "\n",
    "    # Recuperar e del e_prime\n",
    "    if e_prime % 2 == 0:\n",
    "        e = e_prime // 2\n",
    "    else:\n",
    "        e = -(e_prime + 1) // 2\n",
    "\n",
    "    return e\n",
    "\n",
    "\n",
    "# Función para aplicar el predictor de primera diferencia\n",
    "def predictor_first_difference(x):\n",
    "    x_pred = np.zeros_like(x)\n",
    "    x_pred[1:] = x[:-1]\n",
    "    return x_pred\n",
    "\n",
    "\n",
    "# Función principal para codificar imágenes predictivamente\n",
    "def cod_pred(image, output_path, m):\n",
    "    # Cargar la imagen y convertir a escala de grises\n",
    "    image = rgb2gray(image)\n",
    "    x = np.asarray(image, dtype=np.int16)  # Convertir a array numpy\n",
    "\n",
    "    # Dimensiones de la imagen\n",
    "    rows, cols = x.shape\n",
    "\n",
    "    # Transformar a una secuencia unidimensional (raster)\n",
    "    x_raster = x.flatten()\n",
    "\n",
    "    # Aplicar predictor de primera diferencia\n",
    "    x_pred = predictor_first_difference(x_raster)\n",
    "    e = x_raster - x_pred  # Error de predicción\n",
    "\n",
    "    # Codificar los errores de predicción con Rice-m\n",
    "    bitstream = \"\"\n",
    "    for n, e_n in enumerate(e):\n",
    "        if n == 0:\n",
    "            # Codificar primera muestra con longitud fija de 8 bits\n",
    "            bitstream += format(e_n, \"08b\")\n",
    "        else:\n",
    "            # Codificar con Rice-m\n",
    "            bitstream += rice_encode(e_n, m)\n",
    "\n",
    "    # Guardar los datos en un archivo binario\n",
    "    with open(output_path, \"wb\") as f:\n",
    "        # Escribir cabecera\n",
    "        f.write(np.uint16(rows).tobytes())\n",
    "        f.write(np.uint16(cols).tobytes())\n",
    "        f.write(np.uint8(m).tobytes())\n",
    "\n",
    "        # Escribir secuencia de bits\n",
    "        f.write(int(bitstream, 2).to_bytes((len(bitstream) + 7) // 8, byteorder=\"big\"))\n",
    "\n",
    "    # Calcular tasa binaria\n",
    "    nBits = len(bitstream)\n",
    "    R = nBits / (rows * cols)\n",
    "    return nBits, R\n",
    "\n",
    "\n",
    "# Función para encontrar el valor óptimo de m\n",
    "def find_optimal_m(image, m_values: [int]):\n",
    "    best_m = None\n",
    "    best_rate = float(\"inf\")\n",
    "\n",
    "    for m in m_values:\n",
    "        _, R = cod_pred(image, f\"encoded_m{m}.bin\", m)\n",
    "        print(f\"m = {m}, Tasa binaria: {R:.2f} bits/pixel\")\n",
    "        if R < best_rate:\n",
    "            best_rate = R\n",
    "            best_m = m\n",
    "\n",
    "    return best_m, best_rate"
   ]
  },
  {
   "cell_type": "markdown",
   "metadata": {},
   "source": [
    "# Rice"
   ]
  },
  {
   "cell_type": "code",
   "execution_count": 8,
   "metadata": {},
   "outputs": [
    {
     "name": "stdout",
     "output_type": "stream",
     "text": [
      "Rice codificado: 0010001, Rice decodificado: -17\n"
     ]
    }
   ],
   "source": [
    "coded_rice = rice_encode(-17, 4)\n",
    "decoded_rice = rice_decode(coded_rice, 4)\n",
    "print(f\"Rice codificado: {coded_rice}, Rice decodificado: {decoded_rice}\")"
   ]
  },
  {
   "cell_type": "markdown",
   "metadata": {},
   "source": [
    "# Codificador predictivo"
   ]
  },
  {
   "cell_type": "code",
   "execution_count": 9,
   "metadata": {},
   "outputs": [
    {
     "name": "stdout",
     "output_type": "stream",
     "text": [
      "ARRAY [[0 0 0 ... 0 0 0]\n",
      " [0 0 0 ... 0 0 0]\n",
      " [0 0 0 ... 0 0 0]\n",
      " ...\n",
      " [0 0 0 ... 0 0 0]\n",
      " [0 0 0 ... 0 0 0]\n",
      " [0 0 0 ... 0 0 0]]\n",
      "ARRAY FLATTEN [0.49836043 0.48184785 0.48380432 ... 0.25921726 0.2771435  0.24997531]\n",
      "Tasa binaria: 5.00 bits/pixel\n"
     ]
    },
    {
     "ename": "NameError",
     "evalue": "name 'decode_pred' is not defined",
     "output_type": "error",
     "traceback": [
      "\u001b[0;31m---------------------------------------------------------------------------\u001b[0m",
      "\u001b[0;31mNameError\u001b[0m                                 Traceback (most recent call last)",
      "Cell \u001b[0;32mIn[9], line 5\u001b[0m\n\u001b[1;32m      3\u001b[0m nBits, R \u001b[38;5;241m=\u001b[39m cod_pred(image, \u001b[38;5;124m\"\u001b[39m\u001b[38;5;124mencoded_test_2.bin\u001b[39m\u001b[38;5;124m\"\u001b[39m, m)\n\u001b[1;32m      4\u001b[0m \u001b[38;5;28mprint\u001b[39m(\u001b[38;5;124mf\u001b[39m\u001b[38;5;124m\"\u001b[39m\u001b[38;5;124mTasa binaria: \u001b[39m\u001b[38;5;132;01m{\u001b[39;00mR\u001b[38;5;132;01m:\u001b[39;00m\u001b[38;5;124m.2f\u001b[39m\u001b[38;5;132;01m}\u001b[39;00m\u001b[38;5;124m bits/pixel\u001b[39m\u001b[38;5;124m\"\u001b[39m)\n\u001b[0;32m----> 5\u001b[0m decoded_rice \u001b[38;5;241m=\u001b[39m \u001b[43mdecode_pred\u001b[49m(\u001b[38;5;124m\"\u001b[39m\u001b[38;5;124mencoded_test_2.bin\u001b[39m\u001b[38;5;124m\"\u001b[39m, m)\n",
      "\u001b[0;31mNameError\u001b[0m: name 'decode_pred' is not defined"
     ]
    }
   ],
   "source": [
    "m = 4\n",
    "image = plt.imread(image_path)\n",
    "nBits, R = cod_pred(image, \"encoded_test_2.bin\", m)\n",
    "print(f\"Tasa binaria: {R:.2f} bits/pixel\")\n",
    "decoded_rice = decode_pred(\"encoded_test_2.bin\", m)"
   ]
  },
  {
   "cell_type": "code",
   "execution_count": null,
   "metadata": {},
   "outputs": [],
   "source": [
    "m_values = [1, 2, 3, 4, 5]\n",
    "\n",
    "image = plt.imread(image_path)\n",
    "# Encontrar m óptimo\n",
    "best_m, best_rate = find_optimal_m(image, m_values)\n",
    "print(f\"M óptimo: {best_m}, Tasa binaria mínima: {best_rate:.2f} bits/pixel\")\n",
    "\n",
    "decoded_image = decode_pred(\"\")"
   ]
  },
  {
   "cell_type": "code",
   "execution_count": null,
   "metadata": {},
   "outputs": [],
   "source": [
    "import numpy as np\n",
    "from bitarray import bitarray\n",
    "from bitarray.util import int2ba, ba2int\n",
    "\n",
    "\n",
    "def decode2(encoded, m):\n",
    "    # Example decoding process\n",
    "    eq = encoded.find(\"1\")  # Position of the first 1 (starts at 0)\n",
    "    er_bits = encoded[eq + 1 : eq + 1 + m]  # Next m bits\n",
    "\n",
    "    eq = eq\n",
    "    er = ba2int(er_bits)\n",
    "\n",
    "    ep = eq * (2**m) + er\n",
    "\n",
    "    if ep % 2 == 0:\n",
    "        e = ep // 2\n",
    "    else:\n",
    "        e = -(ep + 1) // 2\n",
    "\n",
    "    return e"
   ]
  },
  {
   "cell_type": "code",
   "execution_count": null,
   "metadata": {},
   "outputs": [],
   "source": [
    "_, R = cod_pred2(image_path, \"encoded_m3.bin\", 3)\n",
    "print(f\"Tasa binaria: {R:.2f} bits/pixel\")\n",
    "\n",
    "# Decodificar la imagen\n",
    "decod_image = decode2(\"encoded_m3.bin\", 3)"
   ]
  }
 ],
 "metadata": {
  "kernelspec": {
   "display_name": "venv",
   "language": "python",
   "name": "python3"
  },
  "language_info": {
   "codemirror_mode": {
    "name": "ipython",
    "version": 3
   },
   "file_extension": ".py",
   "mimetype": "text/x-python",
   "name": "python",
   "nbconvert_exporter": "python",
   "pygments_lexer": "ipython3",
   "version": "3.12.7"
  }
 },
 "nbformat": 4,
 "nbformat_minor": 2
}
