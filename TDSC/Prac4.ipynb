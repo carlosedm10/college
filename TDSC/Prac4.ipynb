{
 "cells": [
  {
   "cell_type": "code",
   "execution_count": 1,
   "metadata": {},
   "outputs": [],
   "source": [
    "import numpy as np\n",
    "from PIL import Image\n",
    "\n",
    "\n",
    "def codPred(nombreI, nombreS, m):\n",
    "    # Cargar la imagen y convertirla a escala de grises\n",
    "    img = Image.open(nombreI).convert(\"L\")\n",
    "    x = np.array(img, dtype=np.float64)\n",
    "\n",
    "    # Obtener las dimensiones de la imagen\n",
    "    nFilas, nColumnas = x.shape\n",
    "\n",
    "    # Abrir el archivo para escribir los datos\n",
    "    with open(nombreS, \"wb\") as f:\n",
    "        # Escribir las dimensiones y el valor m\n",
    "        f.write(np.uint16(nFilas).tobytes())\n",
    "        f.write(np.uint16(nColumnas).tobytes())\n",
    "        f.write(np.uint8(m).tobytes())\n",
    "\n",
    "        # Convertir la imagen a un arreglo 1D (Raster)\n",
    "        x1D = x.T.flatten()\n",
    "\n",
    "        # Escribir el primer valor de x1D\n",
    "        f.write(np.uint8(x1D[0]).tobytes())\n",
    "\n",
    "        nBits = 8  # Inicializamos el contador de bits\n",
    "\n",
    "        # Procesar los píxeles restantes\n",
    "        for iPixel in range(1, nFilas * nColumnas):\n",
    "            e = x1D[iPixel] - x1D[iPixel - 1]\n",
    "            if e <= 0:\n",
    "                ep = abs(e) * 2 - 1\n",
    "            else:\n",
    "                ep = e * 2\n",
    "\n",
    "            eq = int(np.floor(ep / 2**m))  # Parte entera\n",
    "            er = int(np.remainder(ep, 2**m))  # Parte restante\n",
    "\n",
    "            # Crear el código UNARIO\n",
    "            cq = np.zeros(eq, dtype=np.uint8)\n",
    "            cr = np.array([int(x) for x in format(er, f\"0{m}b\")], dtype=np.uint8)\n",
    "\n",
    "            # Concatenar los códigos\n",
    "            c = np.concatenate((cq, cr))\n",
    "\n",
    "            # Escribir los bits en el archivo\n",
    "            f.write(c.tobytes())\n",
    "            nBits += len(c)\n",
    "\n",
    "        nBits += 35  # Ajustar el contador de bits\n",
    "        R = nBits / (nFilas * nColumnas)\n",
    "\n",
    "    return nBits, R"
   ]
  }
 ],
 "metadata": {
  "kernelspec": {
   "display_name": "venv",
   "language": "python",
   "name": "python3"
  },
  "language_info": {
   "codemirror_mode": {
    "name": "ipython",
    "version": 3
   },
   "file_extension": ".py",
   "mimetype": "text/x-python",
   "name": "python",
   "nbconvert_exporter": "python",
   "pygments_lexer": "ipython3",
   "version": "3.12.7"
  }
 },
 "nbformat": 4,
 "nbformat_minor": 2
}
