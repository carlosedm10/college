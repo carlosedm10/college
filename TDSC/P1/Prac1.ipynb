{
 "cells": [
  {
   "cell_type": "code",
   "execution_count": 14,
   "metadata": {},
   "outputs": [
    {
     "ename": "ModuleNotFoundError",
     "evalue": "No module named 'TDS'",
     "output_type": "error",
     "traceback": [
      "\u001b[0;31m---------------------------------------------------------------------------\u001b[0m",
      "\u001b[0;31mModuleNotFoundError\u001b[0m                       Traceback (most recent call last)",
      "Cell \u001b[0;32mIn[14], line 8\u001b[0m\n\u001b[1;32m      4\u001b[0m \u001b[38;5;28;01mimport\u001b[39;00m \u001b[38;5;21;01mnumpy\u001b[39;00m \u001b[38;5;28;01mas\u001b[39;00m \u001b[38;5;21;01mnp\u001b[39;00m\n\u001b[1;32m      5\u001b[0m \u001b[38;5;28;01mimport\u001b[39;00m \u001b[38;5;21;01msounddevice\u001b[39;00m \u001b[38;5;28;01mas\u001b[39;00m \u001b[38;5;21;01msd\u001b[39;00m\n\u001b[0;32m----> 8\u001b[0m \u001b[38;5;28;01mfrom\u001b[39;00m \u001b[38;5;21;01mTDS\u001b[39;00m\u001b[38;5;21;01m.\u001b[39;00m\u001b[38;5;21;01mutils\u001b[39;00m \u001b[38;5;28;01mimport\u001b[39;00m continuous_time_plot\n\u001b[1;32m      9\u001b[0m \u001b[38;5;28;01mfrom\u001b[39;00m \u001b[38;5;21;01mscipy\u001b[39;00m\u001b[38;5;21;01m.\u001b[39;00m\u001b[38;5;21;01mio\u001b[39;00m \u001b[38;5;28;01mimport\u001b[39;00m wavfile\n\u001b[1;32m     10\u001b[0m \u001b[38;5;28;01mfrom\u001b[39;00m \u001b[38;5;21;01mmatplotlib\u001b[39;00m \u001b[38;5;28;01mimport\u001b[39;00m pyplot \u001b[38;5;28;01mas\u001b[39;00m plt\n",
      "\u001b[0;31mModuleNotFoundError\u001b[0m: No module named 'TDS'"
     ]
    }
   ],
   "source": [
    "sys.path.append(\"/Users/carlosedm10/projects/college/TDS\")\n",
    "\n",
    "import sys\n",
    "import numpy as np\n",
    "\n",
    "\n",
    "from TDS.utils import continuous_time_plot\n",
    "from scipy.io import wavfile\n",
    "\n",
    "\n",
    "# Path to the .wav files\n",
    "audio_v1 = \"/Users/carlosedm10/projects/college/TDSC/Files/v1.wav\""
   ]
  },
  {
   "cell_type": "markdown",
   "metadata": {},
   "source": [
    "# Exercise 1"
   ]
  },
  {
   "cell_type": "code",
   "execution_count": null,
   "metadata": {},
   "outputs": [
    {
     "name": "stdout",
     "output_type": "stream",
     "text": [
      "Number of channels: 1\n",
      "Sampling frequency: 16000\n",
      "Bits per sample:  64\n",
      "Bit rate: 1024.0 kbps\n",
      "Data type: float64\n",
      "The data type of the elements is double (float64).\n"
     ]
    },
    {
     "ename": "TypeError",
     "evalue": "continuous_time_plot() missing 1 required keyword-only argument: 'variable_name'",
     "output_type": "error",
     "traceback": [
      "\u001b[0;31m---------------------------------------------------------------------------\u001b[0m",
      "\u001b[0;31mTypeError\u001b[0m                                 Traceback (most recent call last)",
      "Cell \u001b[0;32mIn[12], line 29\u001b[0m\n\u001b[1;32m     26\u001b[0m \u001b[38;5;28;01melse\u001b[39;00m:\n\u001b[1;32m     27\u001b[0m     \u001b[38;5;28mprint\u001b[39m(\u001b[38;5;124m\"\u001b[39m\u001b[38;5;124mThe data type of the elements is not double (float64).\u001b[39m\u001b[38;5;124m\"\u001b[39m)\n\u001b[0;32m---> 29\u001b[0m \u001b[43mcontinuous_time_plot\u001b[49m\u001b[43m(\u001b[49m\n\u001b[1;32m     30\u001b[0m \u001b[43m    \u001b[49m\u001b[43mtime_vector\u001b[49m\u001b[43m,\u001b[49m\u001b[43m \u001b[49m\u001b[43maudio_data\u001b[49m\u001b[43m,\u001b[49m\u001b[43m \u001b[49m\u001b[38;5;124;43m\"\u001b[39;49m\u001b[38;5;124;43mTime [s]\u001b[39;49m\u001b[38;5;124;43m\"\u001b[39;49m\u001b[43m,\u001b[49m\u001b[43m \u001b[49m\u001b[38;5;124;43m\"\u001b[39;49m\u001b[38;5;124;43mAmplitude\u001b[39;49m\u001b[38;5;124;43m\"\u001b[39;49m\u001b[43m,\u001b[49m\u001b[43m \u001b[49m\u001b[38;5;124;43m\"\u001b[39;49m\u001b[38;5;124;43mAudio signal v1\u001b[39;49m\u001b[38;5;124;43m\"\u001b[39;49m\n\u001b[1;32m     31\u001b[0m \u001b[43m)\u001b[49m\n",
      "\u001b[0;31mTypeError\u001b[0m: continuous_time_plot() missing 1 required keyword-only argument: 'variable_name'"
     ]
    }
   ],
   "source": [
    "freq, audio_data = wavfile.read(audio_v1)\n",
    "audio_data = audio_data / 2**15  # Normalize the data\n",
    "time_vector = np.arange(len(audio_data)) / freq\n",
    "\n",
    "\n",
    "# Number of channels\n",
    "if len(audio_data.shape) == 1:\n",
    "    n_channels = 1  # Mono\n",
    "else:\n",
    "    n_channels = audio_data.shape[1]  # Stereo\n",
    "\n",
    "print(f\"Number of channels: {n_channels}\")\n",
    "\n",
    "# Sampling frequency of the audio\n",
    "print(f\"Sampling frequency: {freq}\")\n",
    "\n",
    "# Binary rate bits/sample\n",
    "print(f\"Bits per sample: \", audio_data.dtype.itemsize * 8)\n",
    "\n",
    "print(f\"Bit rate: {audio_data.dtype.itemsize * 8 * freq / 1000} kbps\")\n",
    "\n",
    "# Check if the data type of the elements is double (float64)\n",
    "print(f\"Data type: {audio_data.dtype}\")\n",
    "if audio_data.dtype == np.float64:\n",
    "    print(\"The data type of the elements is double (float64).\")\n",
    "else:\n",
    "    print(\"The data type of the elements is not double (float64).\")\n",
    "\n",
    "continuous_time_plot(\n",
    "    time_vector, audio_data, \"Time [s]\", \"Amplitude\", \"Audio signal v1\"\n",
    ")"
   ]
  }
 ],
 "metadata": {
  "kernelspec": {
   "display_name": "venv",
   "language": "python",
   "name": "python3"
  },
  "language_info": {
   "codemirror_mode": {
    "name": "ipython",
    "version": 3
   },
   "file_extension": ".py",
   "mimetype": "text/x-python",
   "name": "python",
   "nbconvert_exporter": "python",
   "pygments_lexer": "ipython3",
   "version": "3.9.6"
  }
 },
 "nbformat": 4,
 "nbformat_minor": 2
}
