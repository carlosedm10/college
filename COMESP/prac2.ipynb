{
 "cells": [
  {
   "cell_type": "markdown",
   "metadata": {},
   "source": [
    "# Variables"
   ]
  },
  {
   "cell_type": "code",
   "execution_count": 1,
   "metadata": {},
   "outputs": [],
   "source": [
    "import numpy as np\n",
    "\n",
    "# Constante de velocidad de la luz en m/s\n",
    "c = 3 * 10**8\n",
    "\n",
    "# Cuestión 7: Cálculo de pérdidas de propagación libre para diferentes bandas de frecuencia\n",
    "R = 1033.2 * 10**3  # Distancia máxima en metros de la Cuestión 5\n",
    "\n",
    "frequencies = {\n",
    "    \"VHF\": 165 * 10**6,\n",
    "    \"UHF\": 650 * 10**6,\n",
    "    \"L\": 1.5 * 10**9,\n",
    "    \"S\": 3 * 10**9,\n",
    "    \"C\": 6 * 10**9,\n",
    "    \"X\": 10 * 10**9,\n",
    "    \"KU\": 15 * 10**9,\n",
    "    \"KA\": 29 * 10**9,\n",
    "}"
   ]
  },
  {
   "cell_type": "markdown",
   "metadata": {},
   "source": [
    "# Loses"
   ]
  },
  {
   "cell_type": "code",
   "execution_count": 2,
   "metadata": {},
   "outputs": [
    {
     "name": "stdout",
     "output_type": "stream",
     "text": [
      "Pérdidas de propagación libre (dB): {'VHF': 137.08, 'UHF': 148.98, 'L': 156.25, 'S': 162.27, 'C': 168.29, 'X': 172.73, 'KU': 176.25, 'KA': 181.97}\n"
     ]
    }
   ],
   "source": [
    "losses = {}\n",
    "for band, f in frequencies.items():\n",
    "    wavelength = c / f\n",
    "    losses[band] = round(20 * np.log10((4 * np.pi * R) / wavelength), 2)\n",
    "\n",
    "print(\"Pérdidas de propagación libre (dB):\", losses)"
   ]
  },
  {
   "cell_type": "code",
   "execution_count": 3,
   "metadata": {},
   "outputs": [
    {
     "name": "stdout",
     "output_type": "stream",
     "text": [
      "PIRE en banda C: 7.01 dBW, 37.01 dBm\n"
     ]
    }
   ],
   "source": [
    "# Cuestión 8: Cálculo de la PIRE en banda C\n",
    "Pt = 2  # Potencia en W\n",
    "Gt = 10 ** (4 / 10)  # Ganancia de 4 dB en escala lineal\n",
    "PIRE = Pt * Gt\n",
    "PIRE_dBW = 10 * np.log10(PIRE)\n",
    "PIRE_dBm = PIRE_dBW + 30\n",
    "\n",
    "print(f\"PIRE en banda C: {round(PIRE_dBW,2)} dBW, {round(PIRE_dBm,2)} dBm\")"
   ]
  },
  {
   "cell_type": "code",
   "execution_count": 4,
   "metadata": {},
   "outputs": [
    {
     "name": "stdout",
     "output_type": "stream",
     "text": [
      "Ganancia de la antena: 40.28928202013588 dB\n",
      "Señal de portadora: -90.9904180232243 dBm\n"
     ]
    }
   ],
   "source": [
    "# Cuestión 9: Señal de portadora en caso de máxima distancia\n",
    "Idiam = 1.9  # Diámetro de la antena terrestre en metros\n",
    "Eficiencia = 0.75\n",
    "lambda_C = c / frequencies[\"C\"]\n",
    "G = (np.pi * Idiam / lambda_C) ** 2 * Eficiencia\n",
    "Gr_dB = 10 * np.log10(G)\n",
    "C = PIRE_dBm + Gr_dB - losses[\"C\"]\n",
    "\n",
    "print(f\"Ganancia de la antena: {Gr_dB} dB\")\n",
    "print(f\"Señal de portadora: {C} dBm\")"
   ]
  },
  {
   "cell_type": "code",
   "execution_count": 5,
   "metadata": {},
   "outputs": [
    {
     "name": "stdout",
     "output_type": "stream",
     "text": [
      "Pérdidas en banda KU: 207.5115948858307 dB, en banda KA: 213.2377296626962 dB\n"
     ]
    }
   ],
   "source": [
    "# Cuestión 11: Pérdidas de propagación libre en bandas Ku y Ka para satélite ASTRA 1N\n",
    "R11 = 37792 * 10**3  # Distancia en metros\n",
    "fKU2 = frequencies[\"KU\"]\n",
    "fKA2 = frequencies[\"KA\"]\n",
    "\n",
    "lambda_KU2 = c / fKU2\n",
    "lambda_KA2 = c / fKA2\n",
    "\n",
    "LsKU2 = 20 * np.log10((4 * np.pi * R11) / lambda_KU2)\n",
    "LsKA2 = 20 * np.log10((4 * np.pi * R11) / lambda_KA2)\n",
    "\n",
    "print(f\"Pérdidas en banda KU: {LsKU2} dB, en banda KA: {LsKA2} dB\")"
   ]
  },
  {
   "cell_type": "markdown",
   "metadata": {},
   "source": []
  },
  {
   "cell_type": "code",
   "execution_count": 6,
   "metadata": {},
   "outputs": [
    {
     "name": "stdout",
     "output_type": "stream",
     "text": [
      "PIRE en banda KU: 94.54 dBm, en banda KA: 100.26 dBm\n"
     ]
    }
   ],
   "source": [
    "# Cuestión 12: Cálculo de la PIRE transmitida por el satélite en bandas Ku y Ka\n",
    "Idiam = 1.2  # Diámetro de la antena en metros\n",
    "Eficiencia = 0.8\n",
    "Pt_sat = 100  # Potencia de salida en W\n",
    "\n",
    "GKU = (np.pi * Idiam / lambda_KU2) ** 2 * Eficiencia\n",
    "PIREdBmKU = 10 * np.log10(Pt_sat * GKU / 1e-3)\n",
    "\n",
    "GKA = (np.pi * Idiam / lambda_KA2) ** 2 * Eficiencia\n",
    "PIREdBmKa = 10 * np.log10(Pt_sat * GKA / 1e-3)\n",
    "\n",
    "print(\n",
    "    f\"PIRE en banda KU: {round(PIREdBmKU,2)} dBm, en banda KA: {round(PIREdBmKa,2)} dBm\"\n",
    ")"
   ]
  },
  {
   "cell_type": "code",
   "execution_count": 11,
   "metadata": {},
   "outputs": [
    {
     "name": "stdout",
     "output_type": "stream",
     "text": [
      "Señal de portadora en banda KU: -73.12 dBm, en banda KA: -67.39 dBm\n"
     ]
    }
   ],
   "source": [
    "# Cuestión 13: Señal de portadora en bandas Ku y Ka en la estación terrestre de usuario\n",
    "Idiam = 0.7  # Diámetro de la antena en metros\n",
    "Eficiencia = 0.8\n",
    "\n",
    "GKU = (np.pi * Idiam / lambda_KU2) ** 2 * Eficiencia\n",
    "Gdbku = 10 * np.log10(GKU)\n",
    "Cku2 = PIREdBmKU + Gdbku - LsKU2\n",
    "\n",
    "GKA = (np.pi * Idiam / lambda_KA2) ** 2 * Eficiencia\n",
    "Gdbka = 10 * np.log10(GKA)\n",
    "Cka2 = PIREdBmKa + Gdbka - LsKA2\n",
    "\n",
    "print(\n",
    "    f\"Señal de portadora en banda KU: {round(Cku2,2)} dBm, en banda KA: {round(Cka2,2)} dBm\"\n",
    ")"
   ]
  },
  {
   "cell_type": "code",
   "execution_count": 8,
   "metadata": {},
   "outputs": [
    {
     "name": "stdout",
     "output_type": "stream",
     "text": [
      "Pérdidas de propagación libre en banda L: 185.27 dB\n"
     ]
    }
   ],
   "source": [
    "# Cuestión 16: Pérdidas de propagación libre en banda L para satélite GPS BIIF-12\n",
    "fL3 = frequencies[\"L\"]\n",
    "r16 = 29202 * 10**3  # Distancia en metros\n",
    "lambda_L3 = c / fL3\n",
    "LsL3 = 20 * np.log10((4 * np.pi * r16) / lambda_L3)\n",
    "\n",
    "print(f\"Pérdidas de propagación libre en banda L: {round(LsL3,2)} dB\")"
   ]
  },
  {
   "cell_type": "code",
   "execution_count": 9,
   "metadata": {},
   "outputs": [
    {
     "name": "stdout",
     "output_type": "stream",
     "text": [
      "Señal de portadora en GPS (banda L): -131.77 dBm\n"
     ]
    }
   ],
   "source": [
    "# Cuestión 17: Señal de portadora que llega al receptor GPS sin directividad\n",
    "PIREdBm17 = 27\n",
    "C17 = PIREdBm17 - LsL3 - 0.5 - 3\n",
    "C17dBm = C17 + 30\n",
    "\n",
    "print(f\"Señal de portadora en GPS (banda L): {round(C17dBm,2)} dBm\")"
   ]
  }
 ],
 "metadata": {
  "kernelspec": {
   "display_name": "venv",
   "language": "python",
   "name": "python3"
  },
  "language_info": {
   "codemirror_mode": {
    "name": "ipython",
    "version": 3
   },
   "file_extension": ".py",
   "mimetype": "text/x-python",
   "name": "python",
   "nbconvert_exporter": "python",
   "pygments_lexer": "ipython3",
   "version": "3.12.7"
  }
 },
 "nbformat": 4,
 "nbformat_minor": 2
}
