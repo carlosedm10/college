{
 "cells": [
  {
   "cell_type": "code",
   "execution_count": 1,
   "metadata": {},
   "outputs": [
    {
     "name": "stdout",
     "output_type": "stream",
     "text": [
      "Resampling audio from 48000Hz to 16000Hz\n",
      "Thresholds used: [1]\n",
      "Threshold used: 0.01\n",
      "Number of numbers detected: 13\n",
      "[0 0 0 ... 0 0 0]\n"
     ]
    }
   ],
   "source": [
    "import sys\n",
    "from matplotlib import pyplot as plt\n",
    "import numpy as np\n",
    "import sounddevice as sd\n",
    "import scipy.signal as signal\n",
    "import librosa\n",
    "\n",
    "sys.path.append(\"/Users/carlosedm10/projects/college/TDS\")\n",
    "\n",
    "from utils import (\n",
    "    continuous_time_plot,\n",
    "    discrete_time_plot,\n",
    "    number_count_detector,\n",
    "    export_numbers,\n",
    "    m4a_to_wav,\n",
    ")\n",
    "\n",
    "people = (\"Carlos\", \"María\")\n",
    "for person in people:\n",
    "    for audio in range(1, 5):\n",
    "        m4a_path = f\"/Users/carlosedm10/projects/college/TDS/P4/Original Audios/{person} {audio}.m4a\"\n",
    "        wav_path = f\"/Users/carlosedm10/projects/college/TDS/P4/Original Audios/{person} {audio}.wav\"\n",
    "        audio_data, freq = m4a_to_wav(m4a_path, wav_path)\n",
    "\n",
    "        # Time vector\n",
    "        t = np.arange(0, len(audio_data) / freq, 1 / freq)\n",
    "\n",
    "        # Plot the audio\n",
    "        # continuous_time_plot(audio_data, variable_name=\"Audio\")\n",
    "        # discrete_time_plot(audio_data, variable_name=\"Audio\")\n",
    "        window_size = 0.02  # 32ms\n",
    "        window_overlap = 0  # No overlap\n",
    "\n",
    "        voice = number_count_detector(\n",
    "            audio_data,\n",
    "            freq,\n",
    "            window_size,\n",
    "            window_overlap,\n",
    "            count=10,\n",
    "        )\n",
    "        print(voice)\n",
    "        # Plot the VAD\n",
    "        plt.figure(figsize=(10, 6))\n",
    "        plt.plot(audio_data, label=\"Audio Signal\")\n",
    "        plt.plot(voice * np.max(audio_data), label=\"VAD\")\n",
    "        plt.xlabel(\"Muestras (n)\")\n",
    "        plt.ylabel(\"Amplitude\")\n",
    "        plt.legend()\n",
    "        plt.title(\"Voice Activity Detection\")\n",
    "        plt.show()\n",
    "\n",
    "        # Export the audios:\n",
    "        export_numbers(\n",
    "            audio_data,\n",
    "            freq,\n",
    "            voice,\n",
    "            10,\n",
    "            f\"/Users/carlosedm10/projects/college/TDS/P4/Final Audios/{person}_{audio}_\",\n",
    "        )"
   ]
  }
 ],
 "metadata": {
  "kernelspec": {
   "display_name": "venv",
   "language": "python",
   "name": "python3"
  },
  "language_info": {
   "codemirror_mode": {
    "name": "ipython",
    "version": 3
   },
   "file_extension": ".py",
   "mimetype": "text/x-python",
   "name": "python",
   "nbconvert_exporter": "python",
   "pygments_lexer": "ipython3",
   "version": "3.9.6"
  }
 },
 "nbformat": 4,
 "nbformat_minor": 2
}
