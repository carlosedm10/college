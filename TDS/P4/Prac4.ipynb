{
 "cells": [
  {
   "cell_type": "markdown",
   "metadata": {},
   "source": [
    "# PRACTICA 4"
   ]
  },
  {
   "cell_type": "markdown",
   "metadata": {},
   "source": [
    "## Audio Prep"
   ]
  },
  {
   "cell_type": "code",
   "execution_count": 1,
   "metadata": {},
   "outputs": [
    {
     "ename": "AttributeError",
     "evalue": "module 'scipy.signal' has no attribute 'io'",
     "output_type": "error",
     "traceback": [
      "\u001b[0;31m---------------------------------------------------------------------------\u001b[0m",
      "\u001b[0;31mAttributeError\u001b[0m                            Traceback (most recent call last)",
      "Cell \u001b[0;32mIn[1], line 29\u001b[0m\n\u001b[1;32m     26\u001b[0m audio_path \u001b[38;5;241m=\u001b[39m \u001b[38;5;124m\"\u001b[39m\u001b[38;5;124m/Users/carlosedm10/projects/college/TDS/P4/nine.wav\u001b[39m\u001b[38;5;124m\"\u001b[39m\n\u001b[1;32m     28\u001b[0m \u001b[38;5;66;03m# Read the audio file\u001b[39;00m\n\u001b[0;32m---> 29\u001b[0m freq, audio_data \u001b[38;5;241m=\u001b[39m \u001b[43msignal\u001b[49m\u001b[38;5;241;43m.\u001b[39;49m\u001b[43mio\u001b[49m\u001b[38;5;241m.\u001b[39mwavfile\u001b[38;5;241m.\u001b[39mread(audio_path)\n\u001b[1;32m     31\u001b[0m \u001b[38;5;66;03m# Now we will make the audio Mono\u001b[39;00m\n\u001b[1;32m     32\u001b[0m \u001b[38;5;28;01mif\u001b[39;00m audio_data\u001b[38;5;241m.\u001b[39mndim \u001b[38;5;241m>\u001b[39m \u001b[38;5;241m1\u001b[39m:\n",
      "\u001b[0;31mAttributeError\u001b[0m: module 'scipy.signal' has no attribute 'io'"
     ]
    }
   ],
   "source": [
    "import sys\n",
    "import numpy as np\n",
    "import sounddevice as sd\n",
    "import scipy.signal as signal\n",
    "import librosa\n",
    "\n",
    "sys.path.append(\"/Users/carlosedm10/projects/college/TDS\")\n",
    "\n",
    "from audio_feature_extractor import (\n",
    "    mfcc,\n",
    "    spectral_flux,\n",
    "    spectral_centroid,\n",
    "    spectral_kurtosis,\n",
    "    spectral_rolloff,\n",
    "    spectral_skewness,\n",
    "    spectral_spread,\n",
    "    calculate_audio_features,\n",
    ")\n",
    "\n",
    "from scipy.io import wavfile\n",
    "\n",
    "# from scipy.signal import resample, spectrogram\n",
    "from matplotlib import pyplot as plt\n",
    "\n",
    "\n",
    "# Path to audio\n",
    "audio_path = \"/Users/carlosedm10/projects/college/TDS/P4/nine.wav\"\n",
    "\n",
    "# Read the audio file\n",
    "freq, audio_data = wavfile.read(audio_path)\n",
    "\n",
    "# Now we will make the audio Mono\n",
    "if audio_data.ndim > 1:\n",
    "    audio_data = audio_data.mean(axis=1)\n",
    "    print(\"Audio is stereo, converting to mono\")\n",
    "\n",
    "audio_data = audio_data / 2**15\n",
    "\n",
    "# Normalization (if your audio data is in integers and needs to be normalized)\n",
    "audio_data = audio_data / np.max(np.abs(audio_data))\n",
    "\n",
    "\n",
    "# Changing the audio frequency to 16kHz if necesary\n",
    "# Target frequency\n",
    "target_freq = 16000\n",
    "\n",
    "if freq != 16000:\n",
    "    print(f\"Resampling audio from {freq}Hz to {target_freq}Hz\")\n",
    "    # Calculate new length of the sample\n",
    "    new_length = round(len(audio_data) * target_freq / freq)\n",
    "\n",
    "    # Resample the audio to the target frequency\n",
    "    audio_data = signal.resample(audio_data, new_length)\n",
    "\n",
    "audio_data = librosa.effects.trim(audio_data, top_db=20)[0]\n",
    "\n",
    "# Plot the voice signal\n",
    "plt.figure()\n",
    "plt.plot(audio_data)\n",
    "plt.title(\"Voice signal\")\n",
    "plt.show()"
   ]
  },
  {
   "cell_type": "markdown",
   "metadata": {},
   "source": [
    "# Exercise 1\n",
    "## Calculate the MFCC"
   ]
  },
  {
   "cell_type": "code",
   "execution_count": null,
   "metadata": {},
   "outputs": [],
   "source": [
    "mfcc(audio_data, freq, 13)"
   ]
  },
  {
   "cell_type": "markdown",
   "metadata": {},
   "source": [
    "# Exercise 2\n",
    "## Calculate the Spectral flux"
   ]
  },
  {
   "cell_type": "code",
   "execution_count": null,
   "metadata": {},
   "outputs": [],
   "source": [
    "spectral_flux(audio_data, freq)"
   ]
  },
  {
   "cell_type": "markdown",
   "metadata": {},
   "source": [
    "# Calculate the Spectral Centroid"
   ]
  },
  {
   "cell_type": "code",
   "execution_count": null,
   "metadata": {},
   "outputs": [],
   "source": [
    "spectral_centroid(audio_data, freq)"
   ]
  },
  {
   "cell_type": "markdown",
   "metadata": {},
   "source": [
    "# Extra feautures:\n",
    "## Spectral Kurtosis"
   ]
  },
  {
   "cell_type": "code",
   "execution_count": null,
   "metadata": {},
   "outputs": [],
   "source": [
    "spectral_kurtosis(audio_data, freq)"
   ]
  },
  {
   "cell_type": "markdown",
   "metadata": {},
   "source": [
    "## Spectral Rolloffpoint"
   ]
  },
  {
   "cell_type": "code",
   "execution_count": null,
   "metadata": {},
   "outputs": [],
   "source": [
    "spectral_rolloff(audio_data, freq)"
   ]
  },
  {
   "cell_type": "markdown",
   "metadata": {},
   "source": [
    "## Spectral Skewness"
   ]
  },
  {
   "cell_type": "markdown",
   "metadata": {},
   "source": []
  },
  {
   "cell_type": "code",
   "execution_count": null,
   "metadata": {},
   "outputs": [],
   "source": [
    "spectral_skewness(audio_data, freq)"
   ]
  },
  {
   "cell_type": "markdown",
   "metadata": {},
   "source": [
    "## Spectral Spread"
   ]
  },
  {
   "cell_type": "code",
   "execution_count": null,
   "metadata": {},
   "outputs": [],
   "source": [
    "spectral_spread(audio_data, freq)"
   ]
  },
  {
   "cell_type": "markdown",
   "metadata": {},
   "source": [
    "# Audio Features"
   ]
  },
  {
   "cell_type": "code",
   "execution_count": null,
   "metadata": {},
   "outputs": [],
   "source": [
    "features = calculate_audio_features(audio_data, freq)\n",
    "\n",
    "print(features)\n",
    "print(len(features))"
   ]
  }
 ],
 "metadata": {
  "kernelspec": {
   "display_name": "venv",
   "language": "python",
   "name": "python3"
  },
  "language_info": {
   "codemirror_mode": {
    "name": "ipython",
    "version": 3
   },
   "file_extension": ".py",
   "mimetype": "text/x-python",
   "name": "python",
   "nbconvert_exporter": "python",
   "pygments_lexer": "ipython3",
   "version": "3.9.6"
  }
 },
 "nbformat": 4,
 "nbformat_minor": 2
}
