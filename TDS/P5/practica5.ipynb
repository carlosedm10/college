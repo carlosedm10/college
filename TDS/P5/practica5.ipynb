{
 "cells": [
  {
   "cell_type": "code",
   "execution_count": 1,
   "id": "76e5d625-6ba0-44e4-8e7b-b2eaceddf7a6",
   "metadata": {},
   "outputs": [],
   "source": [
    "import scipy\n",
    "from scipy.io import loadmat\n",
    "import matplotlib.pyplot as plt"
   ]
  },
  {
   "cell_type": "code",
   "execution_count": 2,
   "id": "19b6020e-c7a7-4a38-bf4f-aad3cde0915d",
   "metadata": {},
   "outputs": [],
   "source": [
    "dataset_train = loadmat(\"train_spanish_2022_python.mat\")\n",
    "dataset_validation = loadmat(\"validation_spanish_2022_python.mat\")"
   ]
  },
  {
   "cell_type": "code",
   "execution_count": 3,
   "id": "599c4c2a-6974-406e-9b24-fcfc5d2c9e76",
   "metadata": {},
   "outputs": [
    {
     "data": {
      "text/plain": [
       "dict_keys(['__header__', '__version__', '__globals__', 'features_train', 'labels_train_int'])"
      ]
     },
     "execution_count": 3,
     "metadata": {},
     "output_type": "execute_result"
    }
   ],
   "source": [
    "dataset_train.keys()"
   ]
  },
  {
   "cell_type": "code",
   "execution_count": 4,
   "id": "518512f7-5d7d-4b2c-9c1d-b975e885c29c",
   "metadata": {},
   "outputs": [
    {
     "data": {
      "text/plain": [
       "(11554, 1)"
      ]
     },
     "execution_count": 4,
     "metadata": {},
     "output_type": "execute_result"
    }
   ],
   "source": [
    "dataset_train[\"labels_train_int\"].shape"
   ]
  },
  {
   "cell_type": "code",
   "execution_count": 5,
   "id": "2098223f-fc41-497d-ace6-cb266bb71e5f",
   "metadata": {},
   "outputs": [],
   "source": [
    "Xtrain = dataset_train[\"features_train\"]\n",
    "Ytrain = dataset_train[\"labels_train_int\"].flatten()"
   ]
  },
  {
   "cell_type": "code",
   "execution_count": 6,
   "id": "7b0a3841-6b79-4c61-a6d8-5c22e7f8f54c",
   "metadata": {},
   "outputs": [
    {
     "data": {
      "text/plain": [
       "dict_keys(['__header__', '__version__', '__globals__', 'features_validation', 'labels_validation_int'])"
      ]
     },
     "execution_count": 6,
     "metadata": {},
     "output_type": "execute_result"
    }
   ],
   "source": [
    "dataset_validation.keys()"
   ]
  },
  {
   "cell_type": "code",
   "execution_count": 7,
   "id": "bca93d3b-0a1d-4962-b3de-0929fcdc0b9c",
   "metadata": {},
   "outputs": [],
   "source": [
    "Xval = dataset_validation[\"features_validation\"]\n",
    "Yval = dataset_validation[\"labels_validation_int\"].flatten()"
   ]
  },
  {
   "cell_type": "markdown",
   "id": "a2f1e096-3681-41bd-b58a-64ddb93b7811",
   "metadata": {},
   "source": [
    "# Normalizacion"
   ]
  },
  {
   "cell_type": "code",
   "execution_count": 8,
   "id": "12de1ec0-2e98-4d9a-a081-807f704954f8",
   "metadata": {},
   "outputs": [],
   "source": [
    "m = Xtrain.mean(axis=0, keepdims=True)\n",
    "s = Xtrain.std(axis=0, keepdims=True)\n",
    "\n",
    "Xtrain_norm = (Xtrain - m) / s\n",
    "Xval_norm = (Xval - m) / s"
   ]
  },
  {
   "cell_type": "code",
   "execution_count": 9,
   "id": "d1859091-535e-4e6a-bd7b-61830f8f5734",
   "metadata": {},
   "outputs": [
    {
     "data": {
      "text/plain": [
       "(1, 85)"
      ]
     },
     "execution_count": 9,
     "metadata": {},
     "output_type": "execute_result"
    }
   ],
   "source": [
    "m.shape"
   ]
  },
  {
   "cell_type": "markdown",
   "id": "854e982e-7261-41e7-9e0a-db758a41e01c",
   "metadata": {},
   "source": [
    "# Create dataset"
   ]
  },
  {
   "cell_type": "code",
   "execution_count": 10,
   "id": "17438fc2-b15a-4014-9324-1746109cee80",
   "metadata": {},
   "outputs": [],
   "source": [
    "import torch\n",
    "from torch.utils.data import TensorDataset, DataLoader\n",
    "\n",
    "\n",
    "# Convert lists to tensors\n",
    "Xtrain_tensor = torch.tensor(Xtrain_norm, dtype=torch.float32)\n",
    "Ytrain_tensor = torch.tensor(Ytrain, dtype=torch.long)\n",
    "\n",
    "Xval_tensor = torch.tensor(Xval_norm, dtype=torch.float32)\n",
    "Yval_tensor = torch.tensor(Yval, dtype=torch.long)\n",
    "\n",
    "# Create TensorDataset\n",
    "train_dataset = TensorDataset(Xtrain_tensor, Ytrain_tensor)\n",
    "val_dataset = TensorDataset(Xval_tensor, Yval_tensor)\n",
    "# Create DataLoader"
   ]
  },
  {
   "cell_type": "markdown",
   "id": "cec43b32-f613-4a4e-b1af-67c4a8285233",
   "metadata": {},
   "source": [
    "# Primera red"
   ]
  },
  {
   "cell_type": "code",
   "execution_count": 11,
   "id": "fea1aee5-c493-4863-87fb-3971cbe891bb",
   "metadata": {},
   "outputs": [],
   "source": [
    "import torch\n",
    "from torch import nn"
   ]
  },
  {
   "cell_type": "code",
   "execution_count": 12,
   "id": "71166b74-d272-4c56-b6f0-e9babaf4976c",
   "metadata": {},
   "outputs": [],
   "source": [
    "class Red(nn.Sequential):\n",
    "    def __init__(\n",
    "        self,\n",
    "        input_dim=85,\n",
    "        hidden_dim=[\n",
    "            4,\n",
    "        ],\n",
    "        out_dim=10,\n",
    "        dropout=0.0,\n",
    "    ):\n",
    "        assert len(hidden_dim) > 0, \"at least one hidden layer\"\n",
    "        layers = []\n",
    "        # first layer\n",
    "        layers.append(nn.Linear(input_dim, hidden_dim[0]))\n",
    "        layers.append(nn.BatchNorm1d(hidden_dim[0]))\n",
    "        if dropout > 0.0:\n",
    "            layers.append(nn.Dropout(dropout))\n",
    "        layers.append(nn.ReLU(inplace=True))\n",
    "\n",
    "        if len(hidden_dim) > 1:\n",
    "            for k in range(1, len(hidden_dim)):\n",
    "                layers.append(nn.Linear(hidden_dim[k - 1], hidden_dim[k]))\n",
    "                layers.append(nn.BatchNorm1d(hidden_dim[k]))\n",
    "                layers.append(nn.Dropout(dropout))\n",
    "                layers.append(nn.ReLU(inplace=True))\n",
    "        layers.append(nn.Linear(hidden_dim[-1], out_dim))\n",
    "        super().__init__(*layers)"
   ]
  },
  {
   "cell_type": "markdown",
   "id": "2e92c88a-e69a-42e2-945f-a98ac6c154ff",
   "metadata": {},
   "source": [
    "# Training loop"
   ]
  },
  {
   "cell_type": "code",
   "execution_count": 13,
   "id": "14707f81-ce61-4243-99a6-6529016a597c",
   "metadata": {},
   "outputs": [],
   "source": [
    "def train_epoch(network, loss_fn, dataloader, optimizer, device=\"cpu\"):\n",
    "    # Set the network to train mode\n",
    "    network.to(device)\n",
    "    network.train()\n",
    "\n",
    "    # Initialize variables to keep track of loss and number of batches\n",
    "    epoch_loss = 0.0\n",
    "    num_batches = 0\n",
    "    epoch_correct = 0.0\n",
    "    num_samples = 0\n",
    "\n",
    "    # Iterate over the data loader\n",
    "    for batch_inputs, batch_targets in dataloader:\n",
    "        # Move data to the appropriate device (e.g., GPU)\n",
    "        batch_inputs = batch_inputs.to(device)\n",
    "        batch_targets = batch_targets.to(device)\n",
    "\n",
    "        # Zero the gradients\n",
    "        optimizer.zero_grad()\n",
    "\n",
    "        # Forward pass\n",
    "        batch_outputs = network(batch_inputs)\n",
    "\n",
    "        # Compute the loss\n",
    "        loss = loss_fn(batch_outputs, batch_targets)\n",
    "\n",
    "        # Backward pass\n",
    "        loss.backward()\n",
    "\n",
    "        # Update the parameters\n",
    "        optimizer.step()\n",
    "\n",
    "        # Accumulate the loss\n",
    "        epoch_loss += loss.item()\n",
    "        num_batches += 1\n",
    "\n",
    "        # Calculate the number of correct predictions in the batch\n",
    "        _, predicted = torch.max(batch_outputs, 1)\n",
    "        epoch_correct += (predicted == batch_targets).sum().item()\n",
    "        num_samples += batch_targets.size(0)\n",
    "\n",
    "    # Calculate the average loss for the epoch\n",
    "    average_loss = epoch_loss / num_batches\n",
    "\n",
    "    # Calculate the accuracy for the epoch\n",
    "    accuracy = epoch_correct / num_samples\n",
    "\n",
    "    return average_loss, accuracy"
   ]
  },
  {
   "cell_type": "code",
   "execution_count": 14,
   "id": "78b65361-b8c7-4a6c-8b54-4a7fdaf3fd85",
   "metadata": {},
   "outputs": [],
   "source": [
    "def validate_epoch(network, loss_fn, dataloader, device=\"cpu\"):\n",
    "    # Set the network to evaluation mode\n",
    "    network.to(device)\n",
    "    network.eval()\n",
    "\n",
    "    # Initialize variables to keep track of loss and number of batches\n",
    "    epoch_loss = 0.0\n",
    "    num_batches = 0\n",
    "    epoch_correct = 0.0\n",
    "    num_samples = 0\n",
    "\n",
    "    # Turn off gradients\n",
    "    with torch.no_grad():\n",
    "        # Iterate over the data loader\n",
    "        for batch_inputs, batch_targets in dataloader:\n",
    "            # Move data to the appropriate device (e.g., GPU)\n",
    "            batch_inputs = batch_inputs.to(device)\n",
    "            batch_targets = batch_targets.to(device)\n",
    "\n",
    "            # Forward pass\n",
    "            batch_outputs = network(batch_inputs)\n",
    "\n",
    "            # Compute the loss\n",
    "            loss = loss_fn(batch_outputs, batch_targets)\n",
    "\n",
    "            # Accumulate the loss\n",
    "            epoch_loss += loss.item()\n",
    "            num_batches += 1\n",
    "\n",
    "            # Calculate the number of correct predictions in the batch\n",
    "            _, predicted = torch.max(batch_outputs, 1)\n",
    "            epoch_correct += (predicted == batch_targets).sum().item()\n",
    "            num_samples += batch_targets.size(0)\n",
    "\n",
    "    # Calculate the average loss for the epoch\n",
    "    average_loss = epoch_loss / num_batches\n",
    "\n",
    "    # Calculate the accuracy for the epoch\n",
    "    accuracy = epoch_correct / num_samples\n",
    "\n",
    "    return average_loss, accuracy"
   ]
  },
  {
   "cell_type": "code",
   "execution_count": 15,
   "id": "bd369170-3ae8-4e00-8cc7-2b2b7dc89b20",
   "metadata": {},
   "outputs": [],
   "source": [
    "from tqdm import tqdm\n",
    "\n",
    "\n",
    "def train(\n",
    "    network,\n",
    "    loss_fn,\n",
    "    train_dataloader,\n",
    "    val_dataloader,\n",
    "    optimizer,\n",
    "    num_epochs,\n",
    "    device=\"cpu\",\n",
    "):\n",
    "    train_losses = []\n",
    "    val_losses = []\n",
    "    val_acc = []\n",
    "    train_acc = []\n",
    "\n",
    "    best_val_acc = 0.0\n",
    "    best_epoch = -1\n",
    "\n",
    "    # Initialize tqdm for progress tracking\n",
    "    progress_bar = tqdm(range(num_epochs), desc=\"Training Progress\")\n",
    "\n",
    "    for epoch in progress_bar:\n",
    "        # Training phase\n",
    "        train_loss, train_accuracy = train_epoch(\n",
    "            network, loss_fn, train_dataloader, optimizer, device=device\n",
    "        )\n",
    "        train_losses.append(train_loss)\n",
    "        train_acc.append(train_accuracy)\n",
    "        # Validation phase\n",
    "        val_loss, val_accuracy = validate_epoch(\n",
    "            network, loss_fn, val_dataloader, device=device\n",
    "        )\n",
    "        val_losses.append(val_loss)\n",
    "        val_acc.append(val_accuracy)\n",
    "\n",
    "        if val_accuracy > best_val_acc:\n",
    "            best_val_acc = val_accuracy\n",
    "            best_epoch = epoch\n",
    "            print(f\"Best val acc {best_val_acc:.3f} at epoch {epoch}\")\n",
    "        # Print the loss for each epoch\n",
    "        # print(f'Epoch {epoch+1}/{num_epochs}, Train Loss: {train_loss:.4f},Val Loss: {val_loss:.4f} Val Acc: {accuracy:.4f}')\n",
    "\n",
    "        # Update tqdm progress bar\n",
    "        progress_bar.set_postfix(\n",
    "            {\n",
    "                \"Train Loss\": train_loss,\n",
    "                \"Val Loss\": val_loss,\n",
    "                \"Train Acc\": train_accuracy,\n",
    "                \"Val Acc\": val_accuracy,\n",
    "            }\n",
    "        )\n",
    "    return train_losses, val_losses, train_acc, val_acc"
   ]
  },
  {
   "cell_type": "code",
   "execution_count": 16,
   "id": "e71d7e8f-6447-41b1-af59-a6de31859a04",
   "metadata": {},
   "outputs": [
    {
     "name": "stderr",
     "output_type": "stream",
     "text": [
      "Training Progress:   2%|▏         | 2/100 [00:00<00:14,  6.82it/s, Train Loss=1.93, Val Loss=1.61, Train Acc=0.266, Val Acc=0.331]"
     ]
    },
    {
     "name": "stdout",
     "output_type": "stream",
     "text": [
      "Best val acc 0.320 at epoch 0\n",
      "Best val acc 0.331 at epoch 1\n"
     ]
    },
    {
     "name": "stderr",
     "output_type": "stream",
     "text": [
      "Training Progress:   4%|▍         | 4/100 [00:00<00:15,  6.22it/s, Train Loss=1.62, Val Loss=1.35, Train Acc=0.356, Val Acc=0.437]"
     ]
    },
    {
     "name": "stdout",
     "output_type": "stream",
     "text": [
      "Best val acc 0.432 at epoch 2\n",
      "Best val acc 0.437 at epoch 3\n"
     ]
    },
    {
     "name": "stderr",
     "output_type": "stream",
     "text": [
      "Training Progress:   6%|▌         | 6/100 [00:01<00:18,  5.20it/s, Train Loss=1.6, Val Loss=1.32, Train Acc=0.38, Val Acc=0.492]  "
     ]
    },
    {
     "name": "stdout",
     "output_type": "stream",
     "text": [
      "Best val acc 0.458 at epoch 4\n",
      "Best val acc 0.492 at epoch 5\n"
     ]
    },
    {
     "name": "stderr",
     "output_type": "stream",
     "text": [
      "Training Progress:   7%|▋         | 7/100 [00:01<00:17,  5.20it/s, Train Loss=1.56, Val Loss=1.14, Train Acc=0.401, Val Acc=0.618]"
     ]
    },
    {
     "name": "stdout",
     "output_type": "stream",
     "text": [
      "Best val acc 0.618 at epoch 6\n"
     ]
    },
    {
     "name": "stderr",
     "output_type": "stream",
     "text": [
      "Training Progress:  10%|█         | 10/100 [00:01<00:18,  4.74it/s, Train Loss=1.37, Val Loss=1.06, Train Acc=0.501, Val Acc=0.609]"
     ]
    },
    {
     "name": "stdout",
     "output_type": "stream",
     "text": [
      "Best val acc 0.648 at epoch 8\n"
     ]
    },
    {
     "name": "stderr",
     "output_type": "stream",
     "text": [
      "Training Progress:  13%|█▎        | 13/100 [00:02<00:17,  4.96it/s, Train Loss=1.25, Val Loss=0.903, Train Acc=0.558, Val Acc=0.721]"
     ]
    },
    {
     "name": "stdout",
     "output_type": "stream",
     "text": [
      "Best val acc 0.681 at epoch 11\n",
      "Best val acc 0.721 at epoch 12\n"
     ]
    },
    {
     "name": "stderr",
     "output_type": "stream",
     "text": [
      "Training Progress:  15%|█▌        | 15/100 [00:02<00:16,  5.09it/s, Train Loss=1.16, Val Loss=0.845, Train Acc=0.598, Val Acc=0.753]"
     ]
    },
    {
     "name": "stdout",
     "output_type": "stream",
     "text": [
      "Best val acc 0.746 at epoch 13\n",
      "Best val acc 0.753 at epoch 14\n"
     ]
    },
    {
     "name": "stderr",
     "output_type": "stream",
     "text": [
      "Training Progress:  19%|█▉        | 19/100 [00:03<00:16,  4.97it/s, Train Loss=1.14, Val Loss=0.823, Train Acc=0.613, Val Acc=0.746]"
     ]
    },
    {
     "name": "stdout",
     "output_type": "stream",
     "text": [
      "Best val acc 0.783 at epoch 17\n"
     ]
    },
    {
     "name": "stderr",
     "output_type": "stream",
     "text": [
      "Training Progress:  21%|██        | 21/100 [00:04<00:16,  4.77it/s, Train Loss=1.16, Val Loss=0.714, Train Acc=0.603, Val Acc=0.804]"
     ]
    },
    {
     "name": "stdout",
     "output_type": "stream",
     "text": [
      "Best val acc 0.804 at epoch 20\n"
     ]
    },
    {
     "name": "stderr",
     "output_type": "stream",
     "text": [
      "Training Progress:  34%|███▍      | 34/100 [00:07<00:15,  4.37it/s, Train Loss=1.1, Val Loss=0.766, Train Acc=0.631, Val Acc=0.807] "
     ]
    },
    {
     "name": "stdout",
     "output_type": "stream",
     "text": [
      "Best val acc 0.807 at epoch 33\n"
     ]
    },
    {
     "name": "stderr",
     "output_type": "stream",
     "text": [
      "Training Progress:  55%|█████▌    | 55/100 [00:11<00:10,  4.27it/s, Train Loss=1.01, Val Loss=0.882, Train Acc=0.662, Val Acc=0.798] "
     ]
    },
    {
     "name": "stdout",
     "output_type": "stream",
     "text": [
      "Best val acc 0.814 at epoch 53\n"
     ]
    },
    {
     "name": "stderr",
     "output_type": "stream",
     "text": [
      "Training Progress:  59%|█████▉    | 59/100 [00:12<00:08,  4.75it/s, Train Loss=0.995, Val Loss=0.843, Train Acc=0.662, Val Acc=0.809]"
     ]
    },
    {
     "name": "stdout",
     "output_type": "stream",
     "text": [
      "Best val acc 0.817 at epoch 57\n"
     ]
    },
    {
     "name": "stderr",
     "output_type": "stream",
     "text": [
      "Training Progress:  69%|██████▉   | 69/100 [00:14<00:06,  4.82it/s, Train Loss=1, Val Loss=0.94, Train Acc=0.67, Val Acc=0.759]      "
     ]
    },
    {
     "name": "stdout",
     "output_type": "stream",
     "text": [
      "Best val acc 0.818 at epoch 67\n"
     ]
    },
    {
     "name": "stderr",
     "output_type": "stream",
     "text": [
      "Training Progress:  75%|███████▌  | 75/100 [00:15<00:04,  5.11it/s, Train Loss=0.965, Val Loss=0.829, Train Acc=0.676, Val Acc=0.821]"
     ]
    },
    {
     "name": "stdout",
     "output_type": "stream",
     "text": [
      "Best val acc 0.837 at epoch 73\n"
     ]
    },
    {
     "name": "stderr",
     "output_type": "stream",
     "text": [
      "Training Progress:  85%|████████▌ | 85/100 [00:17<00:03,  4.98it/s, Train Loss=0.981, Val Loss=0.943, Train Acc=0.68, Val Acc=0.746] "
     ]
    },
    {
     "name": "stdout",
     "output_type": "stream",
     "text": [
      "Best val acc 0.839 at epoch 83\n"
     ]
    },
    {
     "name": "stderr",
     "output_type": "stream",
     "text": [
      "Training Progress: 100%|██████████| 100/100 [00:21<00:00,  4.67it/s, Train Loss=0.948, Val Loss=0.812, Train Acc=0.689, Val Acc=0.782]\n"
     ]
    },
    {
     "data": {
      "image/png": "[encoded data removed]",
      "text/plain": [
       "<Figure size 1000x600 with 2 Axes>"
      ]
     },
     "metadata": {},
     "output_type": "display_data"
    }
   ],
   "source": [
    "import torch.optim as optim\n",
    "\n",
    "# Assuming you have already defined your neural network model and loss function\n",
    "# network = YourNeuralNetwork()\n",
    "# loss_fn = YourLossFunction()\n",
    "fig, axes = plt.subplots(1, 2, figsize=(10, 6))\n",
    "\n",
    "for learning_rate in range(1, 2):\n",
    "    for batch_size in range(1, 2, 1):\n",
    "        # Define learning rate\n",
    "        learning_rate = learning_rate\n",
    "        batch_size = 512 * batch_size\n",
    "\n",
    "        # Define network\n",
    "        red1 = Red(hidden_dim=[128, 128], dropout=0.25)\n",
    "\n",
    "        # Create Adam optimizer\n",
    "        # optimizer = optim.SGD(red1.parameters(), lr=learning_rate, momentum =0.9)\n",
    "        optimizer = optim.Adam(red1.parameters(), lr=learning_rate)\n",
    "        loss_fn = nn.CrossEntropyLoss()\n",
    "\n",
    "        num_epochs = 100\n",
    "        train_dataloader = DataLoader(\n",
    "            train_dataset, batch_size=batch_size, shuffle=True\n",
    "        )\n",
    "        val_dataloader = DataLoader(val_dataset, batch_size=batch_size, shuffle=False)\n",
    "\n",
    "        train_losses, val_losses, train_acc, val_acc = train(\n",
    "            red1,\n",
    "            loss_fn,\n",
    "            train_dataloader,\n",
    "            val_dataloader,\n",
    "            optimizer,\n",
    "            num_epochs,\n",
    "            device=\"cpu\",\n",
    "        )\n",
    "\n",
    "        # Graphs\n",
    "        ax0 = axes[0]\n",
    "        ax0.plot(train_losses, label=f\"train loss{learning_rate}_{batch_size}\")\n",
    "        ax0.plot(val_losses, label=\"val_loss{learning_rate}_{batch_size\")\n",
    "        ax0.set_xlabel(\"epoch\")\n",
    "        ax0.set_ylabel(\"Loss\")\n",
    "        ax0.set_title(\"Training and Validation Loss\")\n",
    "        ax0.legend()\n",
    "\n",
    "        ax1 = axes[1]\n",
    "        ax1.plot(train_acc, label=\"train_acc\")\n",
    "        ax1.plot(val_acc, label=\"val acc\")\n",
    "        ax1.set_xlabel(\"epoch\")\n",
    "        ax1.set_ylabel(\"Accuracy\")\n",
    "        ax1.set_title(\"Training and Validation Accuracy\")\n",
    "        ax1.legend()\n",
    "\n",
    "plt.show()"
   ]
  },
  {
   "cell_type": "code",
   "execution_count": null,
   "id": "a6db0c22-753c-4031-882c-ac00861e4611",
   "metadata": {},
   "outputs": [],
   "source": []
  }
 ],
 "metadata": {
  "kernelspec": {
   "display_name": "Python 3 (ipykernel)",
   "language": "python",
   "name": "python3"
  },
  "language_info": {
   "codemirror_mode": {
    "name": "ipython",
    "version": 3
   },
   "file_extension": ".py",
   "mimetype": "text/x-python",
   "name": "python",
   "nbconvert_exporter": "python",
   "pygments_lexer": "ipython3",
   "version": "3.9.6"
  }
 },
 "nbformat": 4,
 "nbformat_minor": 5
}
