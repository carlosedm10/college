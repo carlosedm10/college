{
 "cells": [
  {
   "cell_type": "markdown",
   "metadata": {},
   "source": [
    "# SETUP"
   ]
  },
  {
   "cell_type": "code",
   "execution_count": null,
   "metadata": {},
   "outputs": [],
   "source": [
    "import sys\n",
    "import os\n",
    "\n",
    "import numpy as np\n",
    "import sounddevice as sd\n",
    "import scipy.signal as signal\n",
    "import librosa\n",
    "\n",
    "sys.path.append(\"/Users/carlosedm10/projects/college/TDS\")\n",
    "from matplotlib import pyplot as plt\n",
    "\n",
    "from utils import (\n",
    "    number_count_detector,\n",
    "    export_numbers,\n",
    "    m4a_to_wav,\n",
    ")\n",
    "\n",
    "people = (\"Carlos\", \"María\", \"Mamá\")\n",
    "numbers = (\n",
    "    \"cero\",\n",
    "    \"uno\",\n",
    "    \"dos\",\n",
    "    \"tres\",\n",
    "    \"cuatro\",\n",
    "    \"cinco\",\n",
    "    \"seis\",\n",
    "    \"siete\",\n",
    "    \"ocho\",\n",
    "    \"nueve\",\n",
    ")\n",
    "\n",
    "\n",
    "def _rename_final_audios():\n",
    "    for j, person in enumerate(people):\n",
    "        for audio in range(1, 5):\n",
    "            for i in range(0, 10):\n",
    "                print(\n",
    "                    f\"Renaming {person}_{audio}_{i}.wav to {numbers[i]}_{j}_{audio}.wav\"\n",
    "                )\n",
    "                os.rename(\n",
    "                    f\"/Users/carlosedm10/projects/college/TDS/Audio Prep/Final Audios/{person}_{audio}_{i}.wav\",\n",
    "                    f\"/Users/carlosedm10/projects/college/TDS/Audio Prep/Final Audios/{numbers[i]}_{j}_{audio}.wav\",\n",
    "                )"
   ]
  },
  {
   "cell_type": "markdown",
   "metadata": {},
   "source": [
    "# AUDIO PROCESSING"
   ]
  },
  {
   "cell_type": "code",
   "execution_count": null,
   "metadata": {},
   "outputs": [],
   "source": [
    "for person in people:\n",
    "    for audio in range(1, 5):\n",
    "        m4a_path = f\"/Users/carlosedm10/projects/college/TDS/Audio Prep/Original Audios/{person} {audio}.m4a\"\n",
    "        wav_path = f\"/Users/carlosedm10/projects/college/TDS/Audio Prep/Original Audios/{person} {audio}.wav\"\n",
    "        audio_data, freq, target_freq = m4a_to_wav(m4a_path, wav_path)\n",
    "\n",
    "        print(f\"Person: {person} Audio: {audio} Freq: {target_freq}Hz\")\n",
    "\n",
    "        window_size = 0.02  # 32ms\n",
    "        window_overlap = 0  # No overlap\n",
    "\n",
    "        voice = number_count_detector(\n",
    "            audio_data,\n",
    "            freq,\n",
    "            window_size,\n",
    "            window_overlap,\n",
    "            count=10,\n",
    "        )\n",
    "        print(voice)\n",
    "        # Plot the VAD\n",
    "        plt.figure(figsize=(10, 6))\n",
    "        plt.plot(audio_data, label=\"Audio Signal\")\n",
    "        plt.plot(voice * np.max(audio_data), label=\"VAD\")\n",
    "        plt.xlabel(\"Muestras (n)\")\n",
    "        plt.ylabel(\"Amplitude\")\n",
    "        plt.legend()\n",
    "        plt.title(f\"{person} Voice Activity Detection {audio}\")\n",
    "        plt.show()\n",
    "\n",
    "        # Export the audios:\n",
    "        export_numbers(\n",
    "            audio_data,\n",
    "            target_freq,\n",
    "            voice,\n",
    "            10,\n",
    "            f\"/Users/carlosedm10/projects/college/TDS/Audio Prep/Final Audios/{person}_{audio}_\",\n",
    "        )\n",
    "_rename_final_audios()"
   ]
  }
 ],
 "metadata": {
  "kernelspec": {
   "display_name": "venv",
   "language": "python",
   "name": "python3"
  },
  "language_info": {
   "codemirror_mode": {
    "name": "ipython",
    "version": 3
   },
   "file_extension": ".py",
   "mimetype": "text/x-python",
   "name": "python",
   "nbconvert_exporter": "python",
   "pygments_lexer": "ipython3",
   "version": "3.9.6"
  }
 },
 "nbformat": 4,
 "nbformat_minor": 2
}
